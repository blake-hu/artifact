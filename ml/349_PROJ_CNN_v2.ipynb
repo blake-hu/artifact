{
 "cells": [
  {
   "cell_type": "markdown",
   "metadata": {
    "id": "V71UDR_j-fxy"
   },
   "source": [
    "load data and create dataframes"
   ]
  },
  {
   "cell_type": "code",
   "execution_count": 1,
   "metadata": {
    "id": "BE-ptj4_rTJw"
   },
   "outputs": [],
   "source": [
    "import itertools\n",
    "import numpy as np  # Import NumPy for numerical operations\n",
    "import pandas as pd  # Import Pandas for data manipulation\n",
    "from pathlib import Path\n",
    "from tqdm.notebook import tqdm\n",
    "import os\n",
    "import zipfile\n",
    "from torchvision import transforms\n",
    "from torchvision.datasets import ImageFolder\n",
    "from torch.utils.data import DataLoader\n",
    "from torchvision.transforms import v2\n",
    "import torch\n",
    "from torch.utils.data import Dataset\n",
    "import matplotlib.pyplot as plt\n",
    "import random\n",
    "from torch.utils.data import DataLoader, random_split\n",
    "import torch\n",
    "from sklearn.metrics import confusion_matrix\n",
    "import seaborn as sns\n",
    "import matplotlib.pyplot as plt\n",
    "import torch.nn.functional as F\n",
    "from sklearn.metrics import accuracy_score, f1_score, matthews_corrcoef\n",
    "\n",
    "random.seed(89034320423)"
   ]
  },
  {
   "cell_type": "code",
   "execution_count": 2,
   "metadata": {},
   "outputs": [
    {
     "name": "stdout",
     "output_type": "stream",
     "text": [
      "mps\n"
     ]
    }
   ],
   "source": [
    "device_name = \"cpu\"  # default device is CPU\n",
    "if torch.cuda.is_available():\n",
    "    device_name = \"cuda\"  # CUDA for NVIDIA GPU\n",
    "elif torch.backends.mps.is_available():\n",
    "    device_name = torch.device(\"mps\")  # Metal Performance Shaders for Apple M-series GPU\n",
    "device = torch.device(device_name)\n",
    "print(device_name)"
   ]
  },
  {
   "cell_type": "code",
   "execution_count": 3,
   "metadata": {
    "colab": {
     "base_uri": "https://localhost:8080/"
    },
    "id": "T-f6nXUR-oSs",
    "outputId": "c1343c30-553f-4ae3-f11e-cd17f958bef4"
   },
   "outputs": [
    {
     "name": "stdout",
     "output_type": "stream",
     "text": [
      "120003 120003\n",
      "(120003, 2)\n",
      "                             image   label\n",
      "0               ./cifake/.DS_Store  cifake\n",
      "1          ./cifake/test/.DS_Store    test\n",
      "2  ./cifake/test/REAL/0892 (2).jpg    REAL\n",
      "3  ./cifake/test/REAL/0250 (5).jpg    REAL\n",
      "4      ./cifake/test/REAL/0071.jpg    REAL\n"
     ]
    }
   ],
   "source": [
    "root_dir = './cifake'\n",
    "\n",
    "# Using a list comprehension and generator expression\n",
    "file_paths = [os.path.join(dirpath, filename) for dirpath, _, filenames in os.walk(root_dir) for filename in filenames]\n",
    "labels = [os.path.basename(os.path.dirname(filepath)) for filepath in file_paths]\n",
    "\n",
    "# Print the total number of file names and labels\n",
    "print(len(file_paths), len(labels))\n",
    "\n",
    "# Create a pandas dataframe from the collected file names and labels\n",
    "df = pd.DataFrame.from_dict({\"image\": file_paths, \"label\": labels})\n",
    "print(df.shape)\n",
    "print(df.head())\n"
   ]
  },
  {
   "cell_type": "markdown",
   "metadata": {
    "id": "4pvsNIambaDi"
   },
   "source": [
    "data transformations"
   ]
  },
  {
   "cell_type": "code",
   "execution_count": 4,
   "metadata": {
    "colab": {
     "base_uri": "https://localhost:8080/"
    },
    "id": "ltvtdviibYrQ",
    "outputId": "6b67ce73-a25a-4729-b4ae-ee4e67143b6c"
   },
   "outputs": [
    {
     "name": "stderr",
     "output_type": "stream",
     "text": [
      "/Users/blake/miniforge3/envs/cs349/lib/python3.9/site-packages/torchvision/transforms/v2/_deprecated.py:43: UserWarning: The transform `ToTensor()` is deprecated and will be removed in a future release. Instead, please use `v2.Compose([v2.ToImage(), v2.ToDtype(torch.float32, scale=True)])`.\n",
      "  warnings.warn(\n"
     ]
    }
   ],
   "source": [
    "from collections import Counter\n",
    "\n",
    "# Compose your transformations\n",
    "transform = v2.Compose([\n",
    "    v2.RandomResizedCrop(size=(32,32), antialias=True),\n",
    "    v2.RandomHorizontalFlip(p=0.5),\n",
    "    v2.ToTensor(),\n",
    "    v2.Normalize(mean=[0.485, 0.456, 0.406], std=[0.229, 0.224, 0.225]),\n",
    "])\n",
    "\n",
    "\n",
    "test_transform = v2.Compose([\n",
    "    v2.RandomResizedCrop(size=(32,32), antialias=True),\n",
    "    v2.ToTensor(),\n",
    "])\n",
    "\n",
    "dataset = ImageFolder(root=f\"{root_dir}/train\", transform=transform)\n",
    "test_dataset = ImageFolder(root=f\"{root_dir}/test\", transform=test_transform)\n",
    "\n",
    "train_size = int(0.8 * len(dataset)) #TODO change\n",
    "val_size = len(dataset) - train_size\n",
    "\n",
    "train_dataset, val_dataset = random_split(dataset, [train_size, val_size])\n",
    "train_loader = DataLoader(train_dataset, batch_size=100, shuffle=True, num_workers=2)\n",
    "val_loader = DataLoader(val_dataset, batch_size=100, shuffle=True,num_workers=2)\n",
    "test_loader= DataLoader(test_dataset, batch_size=100, shuffle=False,num_workers=2)"
   ]
  },
  {
   "cell_type": "code",
   "execution_count": 5,
   "metadata": {
    "id": "SFj03Doo17hf"
   },
   "outputs": [],
   "source": [
    "class EarlyStopper:\n",
    "  def __init__(self, patience, min_delta):\n",
    "      self.patience = patience\n",
    "      self.min_delta = min_delta\n",
    "      self.counter = 0\n",
    "      self.min_validation_loss = float('inf')\n",
    "\n",
    "  def early_stop(self, validation_loss):\n",
    "      if validation_loss < self.min_validation_loss:\n",
    "          self.min_validation_loss = validation_loss\n",
    "          self.counter = 0\n",
    "      elif validation_loss > (self.min_validation_loss + self.min_delta):\n",
    "          self.counter += 1\n",
    "          if self.counter >= self.patience:\n",
    "              return True\n",
    "      return False"
   ]
  },
  {
   "cell_type": "code",
   "execution_count": 6,
   "metadata": {
    "id": "DcIqTH0eeptz"
   },
   "outputs": [],
   "source": [
    "import torch.nn as nn\n",
    "\n",
    "class SimpleCNN(nn.Module):\n",
    "    def __init__(self, batch_size):\n",
    "        super(SimpleCNN, self).__init__()\n",
    "        self.batch_size = batch_size\n",
    "        \n",
    "        self.conv1 = nn.Conv2d(3, 4, kernel_size=3, stride=1, padding=1)\n",
    "        self.pool = nn.MaxPool2d(kernel_size=2, stride=2)\n",
    "        self.conv2 = nn.Conv2d(4, 8, kernel_size=3, stride=1, padding=1)\n",
    "        self.fc1 = nn.Linear(512, 32)\n",
    "        self.fc2 = nn.Linear(32, 1)\n",
    "\n",
    "    def forward(self, x):\n",
    "        x = self.pool(torch.relu(self.conv1(x)))\n",
    "        x = self.pool(torch.relu(self.conv2(x)))\n",
    "        x = x.view(self.batch_size, -1)\n",
    "        x = torch.relu(self.fc1(x))\n",
    "        x = self.fc2(x)\n",
    "        return x\n"
   ]
  },
  {
   "cell_type": "code",
   "execution_count": 7,
   "metadata": {
    "colab": {
     "base_uri": "https://localhost:8080/",
     "height": 390
    },
    "id": "5vII3AcjvKF4",
    "outputId": "5faf8025-7929-428a-d12d-208f3f8b6a52"
   },
   "outputs": [
    {
     "name": "stdout",
     "output_type": "stream",
     "text": [
      "Epochs:\n"
     ]
    },
    {
     "data": {
      "application/vnd.jupyter.widget-view+json": {
       "model_id": "75f4af3760dd40e9ac702854aa55aeec",
       "version_major": 2,
       "version_minor": 0
      },
      "text/plain": [
       "  0%|          | 0/5 [00:00<?, ?it/s]"
      ]
     },
     "metadata": {},
     "output_type": "display_data"
    },
    {
     "data": {
      "application/vnd.jupyter.widget-view+json": {
       "model_id": "17fef547c3a2446582e49cb90c50f4eb",
       "version_major": 2,
       "version_minor": 0
      },
      "text/plain": [
       "  0%|          | 0/800 [00:00<?, ?it/s]"
      ]
     },
     "metadata": {},
     "output_type": "display_data"
    },
    {
     "data": {
      "application/vnd.jupyter.widget-view+json": {
       "model_id": "3173c1d5805f4dfe8ee33ea609c873ca",
       "version_major": 2,
       "version_minor": 0
      },
      "text/plain": [
       "  0%|          | 0/200 [00:00<?, ?it/s]"
      ]
     },
     "metadata": {},
     "output_type": "display_data"
    },
    {
     "name": "stdout",
     "output_type": "stream",
     "text": [
      "Validation loss: 0.542699 \n",
      "\n",
      "Validation accuracy: 0.703250 \n",
      "\n",
      "Validation F1: 0.703250 \n",
      "\n",
      "Validation mcc: 0.419935 \n",
      "\n"
     ]
    },
    {
     "data": {
      "application/vnd.jupyter.widget-view+json": {
       "model_id": "815e8f1ca1ae4a2889091bf2749f1dc8",
       "version_major": 2,
       "version_minor": 0
      },
      "text/plain": [
       "  0%|          | 0/800 [00:00<?, ?it/s]"
      ]
     },
     "metadata": {},
     "output_type": "display_data"
    },
    {
     "data": {
      "application/vnd.jupyter.widget-view+json": {
       "model_id": "84cd107d6de640d4b9d7ad41b402da09",
       "version_major": 2,
       "version_minor": 0
      },
      "text/plain": [
       "  0%|          | 0/200 [00:00<?, ?it/s]"
      ]
     },
     "metadata": {},
     "output_type": "display_data"
    },
    {
     "name": "stdout",
     "output_type": "stream",
     "text": [
      "Validation loss: 0.526687 \n",
      "\n",
      "Validation accuracy: 0.705100 \n",
      "\n",
      "Validation F1: 0.705100 \n",
      "\n",
      "Validation mcc: 0.431522 \n",
      "\n"
     ]
    },
    {
     "data": {
      "application/vnd.jupyter.widget-view+json": {
       "model_id": "721a735238ba42a38ebe7c2a5d52da0e",
       "version_major": 2,
       "version_minor": 0
      },
      "text/plain": [
       "  0%|          | 0/800 [00:00<?, ?it/s]"
      ]
     },
     "metadata": {},
     "output_type": "display_data"
    },
    {
     "data": {
      "application/vnd.jupyter.widget-view+json": {
       "model_id": "1fcd9439a96c4ef1aa09ba1829c2c1d7",
       "version_major": 2,
       "version_minor": 0
      },
      "text/plain": [
       "  0%|          | 0/200 [00:00<?, ?it/s]"
      ]
     },
     "metadata": {},
     "output_type": "display_data"
    },
    {
     "name": "stdout",
     "output_type": "stream",
     "text": [
      "Validation loss: 0.501747 \n",
      "\n",
      "Validation accuracy: 0.734600 \n",
      "\n",
      "Validation F1: 0.734600 \n",
      "\n",
      "Validation mcc: 0.476564 \n",
      "\n"
     ]
    },
    {
     "data": {
      "application/vnd.jupyter.widget-view+json": {
       "model_id": "c394e1f408894c51892250edf910ffa3",
       "version_major": 2,
       "version_minor": 0
      },
      "text/plain": [
       "  0%|          | 0/800 [00:00<?, ?it/s]"
      ]
     },
     "metadata": {},
     "output_type": "display_data"
    },
    {
     "data": {
      "application/vnd.jupyter.widget-view+json": {
       "model_id": "d00ade9c36214040a0e4ed7aed8ba69d",
       "version_major": 2,
       "version_minor": 0
      },
      "text/plain": [
       "  0%|          | 0/200 [00:00<?, ?it/s]"
      ]
     },
     "metadata": {},
     "output_type": "display_data"
    },
    {
     "name": "stdout",
     "output_type": "stream",
     "text": [
      "Validation loss: 0.490702 \n",
      "\n",
      "Validation accuracy: 0.740300 \n",
      "\n",
      "Validation F1: 0.740300 \n",
      "\n",
      "Validation mcc: 0.491680 \n",
      "\n"
     ]
    },
    {
     "data": {
      "application/vnd.jupyter.widget-view+json": {
       "model_id": "90a83b5fe1a04df084b956d98cca3f63",
       "version_major": 2,
       "version_minor": 0
      },
      "text/plain": [
       "  0%|          | 0/800 [00:00<?, ?it/s]"
      ]
     },
     "metadata": {},
     "output_type": "display_data"
    },
    {
     "data": {
      "application/vnd.jupyter.widget-view+json": {
       "model_id": "e854f8e0ae6546148c36b7d26164267a",
       "version_major": 2,
       "version_minor": 0
      },
      "text/plain": [
       "  0%|          | 0/200 [00:00<?, ?it/s]"
      ]
     },
     "metadata": {},
     "output_type": "display_data"
    },
    {
     "name": "stdout",
     "output_type": "stream",
     "text": [
      "Validation loss: 0.488073 \n",
      "\n",
      "Validation accuracy: 0.738900 \n",
      "\n",
      "Validation F1: 0.738900 \n",
      "\n",
      "Validation mcc: 0.493729 \n",
      "\n",
      "Evaluating on test set:\n"
     ]
    },
    {
     "data": {
      "application/vnd.jupyter.widget-view+json": {
       "model_id": "3ee2fada84ed4a2cb64b9cd93af5482c",
       "version_major": 2,
       "version_minor": 0
      },
      "text/plain": [
       "  0%|          | 0/200 [00:00<?, ?it/s]"
      ]
     },
     "metadata": {},
     "output_type": "display_data"
    },
    {
     "name": "stdout",
     "output_type": "stream",
     "text": [
      "Test accuracy: 0.54945\n",
      "Test F1: 0.54945\n",
      "Test MCC: 0.10103091107710965\n"
     ]
    },
    {
     "data": {
      "image/png": "[encoded data removed]",
      "text/plain": [
       "<Figure size 640x480 with 1 Axes>"
      ]
     },
     "metadata": {},
     "output_type": "display_data"
    },
    {
     "data": {
      "image/png": "[encoded data removed]",
      "text/plain": [
       "<Figure size 800x600 with 2 Axes>"
      ]
     },
     "metadata": {},
     "output_type": "display_data"
    }
   ],
   "source": [
    "# Wrap your training loop with the Bottleneck profiler\n",
    "\n",
    "def train(dataloader , model , loss_func, optimizer):\n",
    "\n",
    "      model.train()\n",
    "      train_loss = []\n",
    "\n",
    "      for input, target in tqdm(dataloader):\n",
    "\n",
    "          input, target = input.to(device), target.to(device)\n",
    "          pred = model(input)\n",
    "          pred = torch.squeeze(pred)\n",
    "          loss = loss_func(pred, target.float())\n",
    "          #backpropagation\n",
    "          optimizer.zero_grad()\n",
    "          loss.backward()\n",
    "          optimizer.step()\n",
    "          train_loss.append(loss.item())\n",
    "      return train_loss\n",
    "\n",
    "def validate(dataloader, model, loss_func, threshold=0.5):\n",
    "    model.eval()\n",
    "    \n",
    "    num_batches = len(dataloader)\n",
    "    test_loss= 0\n",
    "    y_true = []\n",
    "    y_pred = []\n",
    "\n",
    "    with torch.no_grad():\n",
    "      for input, target in tqdm(dataloader):\n",
    "            input, target = input.to(device), target.to(device)\n",
    "            pred = model(input)\n",
    "            pred = torch.squeeze(pred)\n",
    "            test_loss += loss_func(pred, target.float()).item()\n",
    "            predicted = (pred >= threshold).float()\n",
    "            y_true.extend(target.cpu().numpy())\n",
    "            y_pred.extend(predicted.cpu().numpy())\n",
    "          \n",
    "    test_loss /= num_batches\n",
    "    acc = accuracy_score(y_true, y_pred)\n",
    "    f1 = f1_score(y_true, y_pred, average=\"micro\")\n",
    "    mcc = matthews_corrcoef(y_true, y_pred)\n",
    "    print(f\"Validation loss: {test_loss:>8f} \\n\")\n",
    "    print(f\"Validation accuracy: {acc:>8f} \\n\")\n",
    "    print(f\"Validation F1: {f1:>8f} \\n\")\n",
    "    print(f\"Validation mcc: {mcc:>8f} \\n\")\n",
    "    return test_loss\n",
    "\n",
    "\n",
    "def test(dataloader, model, threshold=0.5):\n",
    "    model.eval()\n",
    "\n",
    "    y_true = []\n",
    "    y_pred = []\n",
    "\n",
    "    with torch.no_grad():\n",
    "        print(\"Evaluating on test set:\")\n",
    "        for input, target in tqdm(dataloader):\n",
    "            input, target = input.to(device), target.to(device)\n",
    "            pred = model(input)\n",
    "            pred = torch.squeeze(pred)\n",
    "            predicted = (pred >= threshold).float()\n",
    "            y_true.extend(target.cpu().numpy())\n",
    "            y_pred.extend(predicted.cpu().numpy())\n",
    "\n",
    "    return {\n",
    "                \"y_true\": y_true,\n",
    "                \"y_pred\": y_pred,\n",
    "                \"acc\": accuracy_score(y_true, y_pred),\n",
    "                \"f1\": f1_score(y_true, y_pred, average=\"micro\"),\n",
    "                \"mcc\": matthews_corrcoef(y_true, y_pred)\n",
    "            }\n",
    "\n",
    "\n",
    "def classify():\n",
    "    early_stopper = EarlyStopper(patience=1, min_delta=0.01)\n",
    "    \n",
    "    input_size = 32*32\n",
    "    output_size= 1 #isn't this supposed to be 2? for classifications (AI, Human)? #no it's 1 for binary classification\n",
    "    ff = SimpleCNN(train_loader.batch_size).to(device)\n",
    "    loss_fun = nn.BCEWithLogitsLoss()\n",
    "    optimizer = torch.optim.AdamW(ff.parameters(), lr = 1e-3)\n",
    "    scheduler = torch.optim.lr_scheduler.StepLR(optimizer, step_size=3, gamma=0.1)\n",
    "    epochs = 5\n",
    "    train_loss = []\n",
    "    test_loss = []\n",
    "\n",
    "    print(\"Epochs:\")\n",
    "    for t in tqdm(range(epochs)):\n",
    "        losses = train(train_loader, ff, loss_fun, optimizer)\n",
    "        train_loss.append(losses)\n",
    "        validation_loss = validate(val_loader, ff, loss_fun)\n",
    "        test_loss.append(validation_loss)\n",
    "        if early_stopper.early_stop(validation_loss):\n",
    "            print(\"early stop\")\n",
    "            break\n",
    "        scheduler.step()\n",
    "\n",
    "    plt.plot([i for i in range(len(train_loss))], torch.tensor(train_loss).mean(axis=1), color=\"blue\") #training loss\n",
    "    plt.plot([i for i in range(len(test_loss))], test_loss, color=\"red\") #testing loss\n",
    "    result = test(test_loader, ff)\n",
    "    print(f\"Test accuracy: {result['acc']}\")\n",
    "    print(f\"Test F1: {result['f1']}\")\n",
    "    print(f\"Test MCC: {result['mcc']}\")\n",
    "\n",
    "    conf_matrix = confusion_matrix(result[\"y_true\"], result[\"y_pred\"])\n",
    "\n",
    "    # Plot confusion matrix\n",
    "    labels = ['Real', 'Fake']\n",
    "    plt.figure(figsize=(8, 6))\n",
    "    sns.heatmap(conf_matrix, annot=True, fmt='d', cmap='Blues', xticklabels=labels, yticklabels=labels)\n",
    "    plt.title('Confusion Matrix')\n",
    "    plt.xlabel('Predicted')\n",
    "    plt.ylabel('True')\n",
    "    plt.show()\n",
    "\n",
    "    plt.show()\n",
    "classify()"
   ]
  },
  {
   "cell_type": "code",
   "execution_count": null,
   "metadata": {},
   "outputs": [],
   "source": []
  }
 ],
 "metadata": {
  "colab": {
   "provenance": []
  },
  "kernelspec": {
   "display_name": "Python 3 (ipykernel)",
   "language": "python",
   "name": "python3"
  },
  "language_info": {
   "codemirror_mode": {
    "name": "ipython",
    "version": 3
   },
   "file_extension": ".py",
   "mimetype": "text/x-python",
   "name": "python",
   "nbconvert_exporter": "python",
   "pygments_lexer": "ipython3",
   "version": "3.9.18"
  }
 },
 "nbformat": 4,
 "nbformat_minor": 4
}
