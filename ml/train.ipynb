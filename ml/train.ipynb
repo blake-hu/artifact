{
 "cells": [
  {
   "cell_type": "code",
   "execution_count": 2,
   "metadata": {
    "id": "BE-ptj4_rTJw"
   },
   "outputs": [],
   "source": [
    "import itertools\n",
    "import numpy as np  # Import NumPy for numerical operations\n",
    "import pandas as pd  # Import Pandas for data manipulation\n",
    "from pathlib import Path\n",
    "from tqdm.notebook import tqdm\n",
    "import os\n",
    "import zipfile\n",
    "from torchvision import transforms\n",
    "from torchvision.datasets import ImageFolder\n",
    "from torch.utils.data import DataLoader\n",
    "from torchvision.transforms import v2\n",
    "import torch\n",
    "from torch.utils.data import Dataset\n",
    "import matplotlib.pyplot as plt\n",
    "import random\n",
    "from torch.utils.data import DataLoader, random_split\n",
    "import torch\n",
    "import seaborn as sns\n",
    "import matplotlib.pyplot as plt\n",
    "import torch.nn.functional as F\n",
    "from sklearn.metrics import accuracy_score, f1_score, matthews_corrcoef, confusion_matrix\n",
    "\n",
    "random.seed(89034320423)"
   ]
  },
  {
   "cell_type": "code",
   "execution_count": 38,
   "metadata": {},
   "outputs": [
    {
     "name": "stdout",
     "output_type": "stream",
     "text": [
      "mps\n"
     ]
    }
   ],
   "source": [
    "device_name = \"cpu\"  # default device is CPU\n",
    "if torch.cuda.is_available():\n",
    "    device_name = \"cuda\"  # CUDA for NVIDIA GPU\n",
    "elif torch.backends.mps.is_available():\n",
    "    device_name = torch.device(\"mps\")  # Metal Performance Shaders for Apple M-series GPU\n",
    "device = torch.device(device_name)\n",
    "print(device_name)"
   ]
  },
  {
   "cell_type": "markdown",
   "metadata": {
    "id": "4pvsNIambaDi"
   },
   "source": [
    "data transformations"
   ]
  },
  {
   "cell_type": "code",
   "execution_count": 59,
   "metadata": {
    "colab": {
     "base_uri": "https://localhost:8080/"
    },
    "id": "ltvtdviibYrQ",
    "outputId": "6b67ce73-a25a-4729-b4ae-ee4e67143b6c"
   },
   "outputs": [],
   "source": [
    "root_dir = './cifake'\n",
    "\n",
    "# Compose your transformations\n",
    "transform = v2.Compose([\n",
    "    v2.ToTensor(),\n",
    "])\n",
    "\n",
    "\n",
    "test_transform = v2.Compose([\n",
    "    v2.ToTensor(),\n",
    "])\n",
    "\n",
    "dataset = ImageFolder(root=f\"{root_dir}/train\", transform=transform)\n",
    "test_dataset = ImageFolder(root=f\"{root_dir}/test\", transform=test_transform)\n",
    "\n",
    "train_size = int(0.8 * len(dataset)) #TODO change\n",
    "val_size = len(dataset) - train_size\n",
    "\n",
    "train_dataset, val_dataset = random_split(dataset, [train_size, val_size])\n",
    "train_loader = DataLoader(train_dataset, batch_size=100, shuffle=True, num_workers=2)\n",
    "val_loader = DataLoader(val_dataset, batch_size=100, shuffle=True,num_workers=2)\n",
    "test_loader= DataLoader(test_dataset, batch_size=100, shuffle=False,num_workers=2)"
   ]
  },
  {
   "cell_type": "code",
   "execution_count": null,
   "metadata": {},
   "outputs": [],
   "source": [
    "for input, label in test_loader:\n",
    "    print(input.shape)"
   ]
  },
  {
   "cell_type": "code",
   "execution_count": 45,
   "metadata": {
    "id": "SFj03Doo17hf"
   },
   "outputs": [],
   "source": [
    "class EarlyStopper:\n",
    "  def __init__(self, patience, min_delta):\n",
    "      self.patience = patience\n",
    "      self.min_delta = min_delta\n",
    "      self.counter = 0\n",
    "      self.min_validation_loss = float('inf')\n",
    "\n",
    "  def early_stop(self, validation_loss):\n",
    "      if validation_loss < self.min_validation_loss:\n",
    "          self.min_validation_loss = validation_loss\n",
    "          self.counter = 0\n",
    "      elif validation_loss > (self.min_validation_loss + self.min_delta):\n",
    "          self.counter += 1\n",
    "          if self.counter >= self.patience:\n",
    "              return True\n",
    "      return False"
   ]
  },
  {
   "cell_type": "code",
   "execution_count": 210,
   "metadata": {
    "id": "DcIqTH0eeptz"
   },
   "outputs": [],
   "source": [
    "import torch.nn as nn\n",
    "\n",
    "class CNN(nn.Module):\n",
    "    def __init__(self):\n",
    "        super(CNN, self).__init__()\n",
    "\n",
    "        self.conv1 = nn.Conv2d(3, 64, kernel_size=3, padding=1)\n",
    "        self.relu1 = nn.ReLU()\n",
    "        self.maxpool1 = nn.MaxPool2d(kernel_size=2, stride=2)\n",
    "\n",
    "        self.conv2 = nn.Conv2d(64, 128, kernel_size=3, padding=1)\n",
    "        self.relu2 = nn.ReLU()\n",
    "        self.maxpool2 = nn.MaxPool2d(kernel_size=2, stride=2)\n",
    "\n",
    "        self.conv3 = nn.Conv2d(128, 256, kernel_size=3, padding=1)\n",
    "        self.relu3 = nn.ReLU()\n",
    "\n",
    "        self.flatten = nn.Flatten()\n",
    "        self.fc1 = nn.Linear(256 * 8 * 8, 256)\n",
    "        self.relu4 = nn.ReLU()\n",
    "        self.dropout = nn.Dropout(0.5)\n",
    "        self.fc2 = nn.Linear(256, 128)\n",
    "        self.relu5 = nn.ReLU()\n",
    "        self.fc3 = nn.Linear(128, 1)\n",
    "        self.sigmoid = nn.Sigmoid()\n",
    "\n",
    "    def forward(self, x):\n",
    "        batch_size = x.size()[0]\n",
    "        x = self.conv1(x)\n",
    "        x = self.relu1(x)\n",
    "        x = self.maxpool1(x)\n",
    "\n",
    "        x = self.conv2(x)\n",
    "        x = self.relu2(x)\n",
    "        x = self.maxpool2(x)\n",
    "\n",
    "        x = self.conv3(x)\n",
    "        x = self.relu3(x)\n",
    "\n",
    "        x = self.flatten(x)\n",
    "        x = self.fc1(x)\n",
    "        x = self.relu4(x)\n",
    "        \n",
    "        x = self.dropout(x)\n",
    "        x = self.fc2(x)\n",
    "        x = self.relu5(x)\n",
    "        x = self.fc3(x)\n",
    "\n",
    "        return x"
   ]
  },
  {
   "cell_type": "code",
   "execution_count": 211,
   "metadata": {
    "colab": {
     "base_uri": "https://localhost:8080/",
     "height": 390
    },
    "id": "5vII3AcjvKF4",
    "outputId": "5faf8025-7929-428a-d12d-208f3f8b6a52"
   },
   "outputs": [
    {
     "name": "stdout",
     "output_type": "stream",
     "text": [
      "Epochs:\n"
     ]
    },
    {
     "data": {
      "application/vnd.jupyter.widget-view+json": {
       "model_id": "9bf81502cc3143c2b2df97f09e19a913",
       "version_major": 2,
       "version_minor": 0
      },
      "text/plain": [
       "  0%|          | 0/8 [00:00<?, ?it/s]"
      ]
     },
     "metadata": {},
     "output_type": "display_data"
    },
    {
     "data": {
      "application/vnd.jupyter.widget-view+json": {
       "model_id": "b8c288f0f67f4aa7a4dbdfff19b95399",
       "version_major": 2,
       "version_minor": 0
      },
      "text/plain": [
       "  0%|          | 0/800 [00:00<?, ?it/s]"
      ]
     },
     "metadata": {},
     "output_type": "display_data"
    },
    {
     "data": {
      "application/vnd.jupyter.widget-view+json": {
       "model_id": "64718eb4fa544afe8046136128deace2",
       "version_major": 2,
       "version_minor": 0
      },
      "text/plain": [
       "  0%|          | 0/200 [00:00<?, ?it/s]"
      ]
     },
     "metadata": {},
     "output_type": "display_data"
    },
    {
     "name": "stdout",
     "output_type": "stream",
     "text": [
      "Validation loss: 0.229725 \n",
      "\n",
      "Validation accuracy: 0.919900 \n",
      "\n",
      "Validation F1: 0.919900 \n",
      "\n",
      "Validation mcc: 0.841345 \n",
      "\n"
     ]
    },
    {
     "data": {
      "application/vnd.jupyter.widget-view+json": {
       "model_id": "092d79b06f454c5198ff57fe0e91d66c",
       "version_major": 2,
       "version_minor": 0
      },
      "text/plain": [
       "  0%|          | 0/800 [00:00<?, ?it/s]"
      ]
     },
     "metadata": {},
     "output_type": "display_data"
    },
    {
     "data": {
      "application/vnd.jupyter.widget-view+json": {
       "model_id": "7600d2d85b22491eb7a1b62ae44a7dd4",
       "version_major": 2,
       "version_minor": 0
      },
      "text/plain": [
       "  0%|          | 0/200 [00:00<?, ?it/s]"
      ]
     },
     "metadata": {},
     "output_type": "display_data"
    },
    {
     "name": "stdout",
     "output_type": "stream",
     "text": [
      "Validation loss: 0.213924 \n",
      "\n",
      "Validation accuracy: 0.926550 \n",
      "\n",
      "Validation F1: 0.926550 \n",
      "\n",
      "Validation mcc: 0.855426 \n",
      "\n"
     ]
    },
    {
     "data": {
      "application/vnd.jupyter.widget-view+json": {
       "model_id": "493c79e8858e41069634127b468a8699",
       "version_major": 2,
       "version_minor": 0
      },
      "text/plain": [
       "  0%|          | 0/800 [00:00<?, ?it/s]"
      ]
     },
     "metadata": {},
     "output_type": "display_data"
    },
    {
     "data": {
      "application/vnd.jupyter.widget-view+json": {
       "model_id": "57b870a51f934be29253dfb894e92663",
       "version_major": 2,
       "version_minor": 0
      },
      "text/plain": [
       "  0%|          | 0/200 [00:00<?, ?it/s]"
      ]
     },
     "metadata": {},
     "output_type": "display_data"
    },
    {
     "name": "stdout",
     "output_type": "stream",
     "text": [
      "Validation loss: 0.206224 \n",
      "\n",
      "Validation accuracy: 0.930700 \n",
      "\n",
      "Validation F1: 0.930700 \n",
      "\n",
      "Validation mcc: 0.863082 \n",
      "\n"
     ]
    },
    {
     "data": {
      "application/vnd.jupyter.widget-view+json": {
       "model_id": "553bf55862bd462dae5ec9aabb99aa3c",
       "version_major": 2,
       "version_minor": 0
      },
      "text/plain": [
       "  0%|          | 0/800 [00:00<?, ?it/s]"
      ]
     },
     "metadata": {},
     "output_type": "display_data"
    },
    {
     "data": {
      "application/vnd.jupyter.widget-view+json": {
       "model_id": "c9f6b5904b434327b1143f733cb36476",
       "version_major": 2,
       "version_minor": 0
      },
      "text/plain": [
       "  0%|          | 0/200 [00:00<?, ?it/s]"
      ]
     },
     "metadata": {},
     "output_type": "display_data"
    },
    {
     "name": "stdout",
     "output_type": "stream",
     "text": [
      "Validation loss: 0.133421 \n",
      "\n",
      "Validation accuracy: 0.946450 \n",
      "\n",
      "Validation F1: 0.946450 \n",
      "\n",
      "Validation mcc: 0.893342 \n",
      "\n"
     ]
    },
    {
     "data": {
      "application/vnd.jupyter.widget-view+json": {
       "model_id": "06d989ed4d214f1fb03f692798487190",
       "version_major": 2,
       "version_minor": 0
      },
      "text/plain": [
       "  0%|          | 0/800 [00:00<?, ?it/s]"
      ]
     },
     "metadata": {},
     "output_type": "display_data"
    },
    {
     "data": {
      "application/vnd.jupyter.widget-view+json": {
       "model_id": "b533f15c8e4d43dbaaed7cd048756ac1",
       "version_major": 2,
       "version_minor": 0
      },
      "text/plain": [
       "  0%|          | 0/200 [00:00<?, ?it/s]"
      ]
     },
     "metadata": {},
     "output_type": "display_data"
    },
    {
     "name": "stdout",
     "output_type": "stream",
     "text": [
      "Validation loss: 0.131170 \n",
      "\n",
      "Validation accuracy: 0.944350 \n",
      "\n",
      "Validation F1: 0.944350 \n",
      "\n",
      "Validation mcc: 0.889736 \n",
      "\n"
     ]
    },
    {
     "data": {
      "application/vnd.jupyter.widget-view+json": {
       "model_id": "45111140d8ad49419741bc2e21e9d091",
       "version_major": 2,
       "version_minor": 0
      },
      "text/plain": [
       "  0%|          | 0/800 [00:00<?, ?it/s]"
      ]
     },
     "metadata": {},
     "output_type": "display_data"
    },
    {
     "data": {
      "application/vnd.jupyter.widget-view+json": {
       "model_id": "bdfadcca64074b37b5417e9bfac5bfe3",
       "version_major": 2,
       "version_minor": 0
      },
      "text/plain": [
       "  0%|          | 0/200 [00:00<?, ?it/s]"
      ]
     },
     "metadata": {},
     "output_type": "display_data"
    },
    {
     "name": "stdout",
     "output_type": "stream",
     "text": [
      "Validation loss: 0.131924 \n",
      "\n",
      "Validation accuracy: 0.951600 \n",
      "\n",
      "Validation F1: 0.951600 \n",
      "\n",
      "Validation mcc: 0.903202 \n",
      "\n"
     ]
    },
    {
     "data": {
      "application/vnd.jupyter.widget-view+json": {
       "model_id": "c4a0bc8f1b6646a5964f3c5048910bc4",
       "version_major": 2,
       "version_minor": 0
      },
      "text/plain": [
       "  0%|          | 0/800 [00:00<?, ?it/s]"
      ]
     },
     "metadata": {},
     "output_type": "display_data"
    },
    {
     "data": {
      "application/vnd.jupyter.widget-view+json": {
       "model_id": "e0a8bed9b43e43548c94fdc162a7ff37",
       "version_major": 2,
       "version_minor": 0
      },
      "text/plain": [
       "  0%|          | 0/200 [00:00<?, ?it/s]"
      ]
     },
     "metadata": {},
     "output_type": "display_data"
    },
    {
     "name": "stdout",
     "output_type": "stream",
     "text": [
      "Validation loss: 0.127879 \n",
      "\n",
      "Validation accuracy: 0.952350 \n",
      "\n",
      "Validation F1: 0.952350 \n",
      "\n",
      "Validation mcc: 0.904777 \n",
      "\n"
     ]
    },
    {
     "data": {
      "application/vnd.jupyter.widget-view+json": {
       "model_id": "ed68395b1aea4d7f804bb724b634d3ac",
       "version_major": 2,
       "version_minor": 0
      },
      "text/plain": [
       "  0%|          | 0/800 [00:00<?, ?it/s]"
      ]
     },
     "metadata": {},
     "output_type": "display_data"
    },
    {
     "data": {
      "application/vnd.jupyter.widget-view+json": {
       "model_id": "6bad2796041a47048b0b54f64d0d575f",
       "version_major": 2,
       "version_minor": 0
      },
      "text/plain": [
       "  0%|          | 0/200 [00:00<?, ?it/s]"
      ]
     },
     "metadata": {},
     "output_type": "display_data"
    },
    {
     "name": "stdout",
     "output_type": "stream",
     "text": [
      "Validation loss: 0.127552 \n",
      "\n",
      "Validation accuracy: 0.952200 \n",
      "\n",
      "Validation F1: 0.952200 \n",
      "\n",
      "Validation mcc: 0.904488 \n",
      "\n",
      "Evaluating on test set:\n"
     ]
    },
    {
     "data": {
      "application/vnd.jupyter.widget-view+json": {
       "model_id": "dc51245530554042a9c0ee06820bfe7f",
       "version_major": 2,
       "version_minor": 0
      },
      "text/plain": [
       "  0%|          | 0/200 [00:00<?, ?it/s]"
      ]
     },
     "metadata": {},
     "output_type": "display_data"
    },
    {
     "name": "stdout",
     "output_type": "stream",
     "text": [
      "Test accuracy: 0.9524\n",
      "Test F1: 0.9524\n",
      "Test MCC: 0.9048040716274836\n"
     ]
    },
    {
     "data": {
      "image/png": "[encoded data removed]",
      "text/plain": [
       "<Figure size 640x480 with 1 Axes>"
      ]
     },
     "metadata": {},
     "output_type": "display_data"
    },
    {
     "data": {
      "image/png": "[encoded data removed]",
      "text/plain": [
       "<Figure size 800x600 with 2 Axes>"
      ]
     },
     "metadata": {},
     "output_type": "display_data"
    }
   ],
   "source": [
    "# Wrap your training loop with the Bottleneck profiler\n",
    "\n",
    "def train(dataloader , model , loss_func, optimizer):\n",
    "\n",
    "      model.train()\n",
    "      train_loss = []\n",
    "\n",
    "      for input, target in tqdm(dataloader):\n",
    "\n",
    "          input, target = input.to(device), target.to(device)\n",
    "          pred = model(input)\n",
    "          pred = torch.squeeze(pred)\n",
    "          loss = loss_func(pred, target.float())\n",
    "          #backpropagation\n",
    "          optimizer.zero_grad()\n",
    "          loss.backward()\n",
    "          optimizer.step()\n",
    "          train_loss.append(loss.item())\n",
    "      return train_loss\n",
    "\n",
    "def validate(dataloader, model, loss_func, threshold=0.5):\n",
    "    model.eval()\n",
    "    \n",
    "    num_batches = len(dataloader)\n",
    "    test_loss= 0\n",
    "    y_true = []\n",
    "    y_pred = []\n",
    "\n",
    "    with torch.no_grad():\n",
    "      for input, target in tqdm(dataloader):\n",
    "            input, target = input.to(device), target.to(device)\n",
    "            pred = model(input)\n",
    "            pred = torch.squeeze(pred)\n",
    "            test_loss += loss_func(pred, target.float()).item()\n",
    "            predicted = (pred >= threshold).float()\n",
    "            y_true.extend(target.cpu().numpy())\n",
    "            y_pred.extend(predicted.cpu().numpy())\n",
    "          \n",
    "    test_loss /= num_batches\n",
    "    acc = accuracy_score(y_true, y_pred)\n",
    "    f1 = f1_score(y_true, y_pred, average=\"micro\")\n",
    "    mcc = matthews_corrcoef(y_true, y_pred)\n",
    "    print(f\"Validation loss: {test_loss:>8f} \\n\")\n",
    "    print(f\"Validation accuracy: {acc:>8f} \\n\")\n",
    "    print(f\"Validation F1: {f1:>8f} \\n\")\n",
    "    print(f\"Validation mcc: {mcc:>8f} \\n\")\n",
    "    return test_loss\n",
    "\n",
    "\n",
    "def test(dataloader, model, threshold=0.5):\n",
    "    model.eval()\n",
    "    sigmoid = nn.Sigmoid()\n",
    "\n",
    "    y_true = []\n",
    "    y_pred = []\n",
    "\n",
    "    with torch.no_grad():\n",
    "        print(\"Evaluating on test set:\")\n",
    "        for input, target in tqdm(dataloader):\n",
    "            input, target = input.to(device), target.to(device)\n",
    "            pred = model(input)\n",
    "            pred = torch.squeeze(pred)\n",
    "            pred = sigmoid(pred)\n",
    "            predicted = (pred >= threshold).float()\n",
    "            y_true.extend(target.cpu().numpy())\n",
    "            y_pred.extend(predicted.cpu().numpy())\n",
    "\n",
    "    return {\n",
    "                \"y_true\": y_true,\n",
    "                \"y_pred\": y_pred,\n",
    "                \"acc\": accuracy_score(y_true, y_pred),\n",
    "                \"f1\": f1_score(y_true, y_pred, average=\"micro\"),\n",
    "                \"mcc\": matthews_corrcoef(y_true, y_pred)\n",
    "            }\n",
    "\n",
    "\n",
    "def classify():\n",
    "    early_stopper = EarlyStopper(patience=2, min_delta=0.01)\n",
    "    \n",
    "    input_size = 32*32\n",
    "    output_size= 1 #isn't this supposed to be 2? for classifications (AI, Human)? #no it's 1 for binary classification\n",
    "    model = CNN().to(device)\n",
    "    loss_fun = nn.BCEWithLogitsLoss()\n",
    "    optimizer = torch.optim.AdamW(model.parameters(), lr = 1e-3)\n",
    "    scheduler = torch.optim.lr_scheduler.StepLR(optimizer, step_size=3, gamma=0.1)\n",
    "    epochs = 8\n",
    "    train_loss = []\n",
    "    test_loss = []\n",
    "\n",
    "    print(\"Epochs:\")\n",
    "    for t in tqdm(range(epochs)):\n",
    "        losses = train(train_loader, model, loss_fun, optimizer)\n",
    "        train_loss.append(losses)\n",
    "        validation_loss = validate(val_loader, model, loss_fun)\n",
    "        test_loss.append(validation_loss)\n",
    "        if early_stopper.early_stop(validation_loss):\n",
    "            print(\"early stop\")\n",
    "            break\n",
    "        scheduler.step()\n",
    "\n",
    "    plt.plot([i for i in range(len(train_loss))], torch.tensor(train_loss).mean(axis=1), color=\"blue\") #training loss\n",
    "    plt.plot([i for i in range(len(test_loss))], test_loss, color=\"red\") #testing loss\n",
    "    result = test(test_loader, model)\n",
    "    print(f\"Test accuracy: {result['acc']}\")\n",
    "    print(f\"Test F1: {result['f1']}\")\n",
    "    print(f\"Test MCC: {result['mcc']}\")\n",
    "\n",
    "    conf_matrix = confusion_matrix(result[\"y_true\"], result[\"y_pred\"])\n",
    "\n",
    "    # Plot confusion matrix\n",
    "    labels = ['Real', 'Fake']\n",
    "    plt.figure(figsize=(8, 6))\n",
    "    sns.heatmap(conf_matrix, annot=True, fmt='d', cmap='Blues', xticklabels=labels, yticklabels=labels)\n",
    "    plt.title('Confusion Matrix')\n",
    "    plt.xlabel('Predicted')\n",
    "    plt.ylabel('True')\n",
    "    plt.show()\n",
    "\n",
    "    return model\n",
    "\n",
    "model = classify()"
   ]
  },
  {
   "cell_type": "code",
   "execution_count": 212,
   "metadata": {},
   "outputs": [],
   "source": [
    "torch.save(model, \"./output/model.pt\")\n",
    "torch.save(model.state_dict(), \"./output/model_state_dict.pt\")"
   ]
  },
  {
   "cell_type": "code",
   "execution_count": 48,
   "metadata": {},
   "outputs": [
    {
     "data": {
      "text/plain": [
       "CNN(\n",
       "  (conv1): Conv2d(3, 64, kernel_size=(3, 3), stride=(1, 1), padding=(1, 1))\n",
       "  (relu1): ReLU()\n",
       "  (batchnorm1): BatchNorm2d(64, eps=1e-05, momentum=0.1, affine=True, track_running_stats=True)\n",
       "  (maxpool1): MaxPool2d(kernel_size=2, stride=2, padding=0, dilation=1, ceil_mode=False)\n",
       "  (conv2): Conv2d(64, 128, kernel_size=(3, 3), stride=(1, 1), padding=(1, 1))\n",
       "  (relu2): ReLU()\n",
       "  (batchnorm2): BatchNorm2d(128, eps=1e-05, momentum=0.1, affine=True, track_running_stats=True)\n",
       "  (maxpool2): MaxPool2d(kernel_size=2, stride=2, padding=0, dilation=1, ceil_mode=False)\n",
       "  (conv3): Conv2d(128, 256, kernel_size=(3, 3), stride=(1, 1), padding=(1, 1))\n",
       "  (relu3): ReLU()\n",
       "  (batchnorm3): BatchNorm2d(256, eps=1e-05, momentum=0.1, affine=True, track_running_stats=True)\n",
       "  (flatten): Flatten(start_dim=1, end_dim=-1)\n",
       "  (fc1): Linear(in_features=16384, out_features=256, bias=True)\n",
       "  (relu4): ReLU()\n",
       "  (batchnorm4): BatchNorm1d(256, eps=1e-05, momentum=0.1, affine=True, track_running_stats=True)\n",
       "  (dropout): Dropout(p=0.5, inplace=False)\n",
       "  (fc2): Linear(in_features=256, out_features=128, bias=True)\n",
       "  (relu5): ReLU()\n",
       "  (fc3): Linear(in_features=128, out_features=1, bias=True)\n",
       "  (sigmoid): Sigmoid()\n",
       ")"
      ]
     },
     "execution_count": 48,
     "metadata": {},
     "output_type": "execute_result"
    }
   ],
   "source": [
    "loaded_model = CNN()\n",
    "loaded_model.load_state_dict(torch.load(\"./output/model_state_dict.pt\"))\n",
    "loaded_model.to(device)"
   ]
  },
  {
   "cell_type": "code",
   "execution_count": 180,
   "metadata": {},
   "outputs": [
    {
     "data": {
      "text/plain": [
       "CNN(\n",
       "  (conv1): Conv2d(3, 64, kernel_size=(3, 3), stride=(1, 1), padding=(1, 1))\n",
       "  (relu1): ReLU()\n",
       "  (batchnorm1): BatchNorm2d(64, eps=1e-05, momentum=0.1, affine=True, track_running_stats=True)\n",
       "  (maxpool1): MaxPool2d(kernel_size=2, stride=2, padding=0, dilation=1, ceil_mode=False)\n",
       "  (conv2): Conv2d(64, 128, kernel_size=(3, 3), stride=(1, 1), padding=(1, 1))\n",
       "  (relu2): ReLU()\n",
       "  (batchnorm2): BatchNorm2d(128, eps=1e-05, momentum=0.1, affine=True, track_running_stats=True)\n",
       "  (maxpool2): MaxPool2d(kernel_size=2, stride=2, padding=0, dilation=1, ceil_mode=False)\n",
       "  (conv3): Conv2d(128, 256, kernel_size=(3, 3), stride=(1, 1), padding=(1, 1))\n",
       "  (relu3): ReLU()\n",
       "  (batchnorm3): BatchNorm2d(256, eps=1e-05, momentum=0.1, affine=True, track_running_stats=True)\n",
       "  (flatten): Flatten(start_dim=1, end_dim=-1)\n",
       "  (fc1): Linear(in_features=16384, out_features=256, bias=True)\n",
       "  (relu4): ReLU()\n",
       "  (batchnorm4): BatchNorm1d(256, eps=1e-05, momentum=0.1, affine=True, track_running_stats=True)\n",
       "  (dropout): Dropout(p=0.5, inplace=False)\n",
       "  (fc2): Linear(in_features=256, out_features=128, bias=True)\n",
       "  (relu5): ReLU()\n",
       "  (fc3): Linear(in_features=128, out_features=1, bias=True)\n",
       "  (sigmoid): Sigmoid()\n",
       ")"
      ]
     },
     "execution_count": 180,
     "metadata": {},
     "output_type": "execute_result"
    }
   ],
   "source": [
    "full_model = torch.load(\"./output/model_full.pt\")\n",
    "full_model.to(device)"
   ]
  },
  {
   "cell_type": "code",
   "execution_count": 229,
   "metadata": {},
   "outputs": [
    {
     "name": "stdout",
     "output_type": "stream",
     "text": [
      "Evaluating on test set:\n"
     ]
    },
    {
     "data": {
      "application/vnd.jupyter.widget-view+json": {
       "model_id": "5670915177c34334bdaeb6319270001e",
       "version_major": 2,
       "version_minor": 0
      },
      "text/plain": [
       "  0%|          | 0/200 [00:00<?, ?it/s]"
      ]
     },
     "metadata": {},
     "output_type": "display_data"
    },
    {
     "name": "stdout",
     "output_type": "stream",
     "text": [
      "Test accuracy: 0.9626\n",
      "Test F1: 0.9626000000000001\n",
      "Test MCC: 0.9252041634281032\n"
     ]
    },
    {
     "data": {
      "image/png": "[encoded data removed]",
      "text/plain": [
       "<Figure size 800x600 with 2 Axes>"
      ]
     },
     "metadata": {},
     "output_type": "display_data"
    }
   ],
   "source": [
    "result = test(test_loader, full_model)\n",
    "print(f\"Test accuracy: {result['acc']}\")\n",
    "print(f\"Test F1: {result['f1']}\")\n",
    "print(f\"Test MCC: {result['mcc']}\")\n",
    "\n",
    "conf_matrix = confusion_matrix(result[\"y_true\"], result[\"y_pred\"])\n",
    "\n",
    "# Plot confusion matrix\n",
    "labels = ['Real', 'Fake']\n",
    "plt.figure(figsize=(8, 6))\n",
    "sns.heatmap(conf_matrix, annot=True, fmt='d', cmap='Blues', xticklabels=labels, yticklabels=labels)\n",
    "plt.title('Confusion Matrix')\n",
    "plt.xlabel('Predicted')\n",
    "plt.ylabel('True')\n",
    "plt.show()"
   ]
  },
  {
   "cell_type": "code",
   "execution_count": 276,
   "metadata": {},
   "outputs": [
    {
     "data": {
      "text/plain": [
       "tensor([[[[0.5961, 0.5882, 0.6039,  ..., 0.4980, 0.5608, 0.6510],\n",
       "          [0.6000, 0.5882, 0.5843,  ..., 0.6235, 0.6510, 0.6980],\n",
       "          [0.6353, 0.6314, 0.6314,  ..., 0.7333, 0.7333, 0.7294],\n",
       "          ...,\n",
       "          [0.3686, 0.4471, 0.4196,  ..., 0.6039, 0.6118, 0.6118],\n",
       "          [0.4627, 0.4471, 0.3686,  ..., 0.6000, 0.6078, 0.6078],\n",
       "          [0.4510, 0.4314, 0.4039,  ..., 0.5686, 0.5804, 0.5804]],\n",
       "\n",
       "         [[0.5608, 0.5529, 0.5569,  ..., 0.4275, 0.4902, 0.5804],\n",
       "          [0.5608, 0.5529, 0.5451,  ..., 0.5529, 0.5765, 0.6275],\n",
       "          [0.6039, 0.6000, 0.6000,  ..., 0.6667, 0.6667, 0.6627],\n",
       "          ...,\n",
       "          [0.2275, 0.3137, 0.2863,  ..., 0.3804, 0.3647, 0.3647],\n",
       "          [0.3176, 0.3059, 0.2353,  ..., 0.3529, 0.3451, 0.3412],\n",
       "          [0.2980, 0.2863, 0.2706,  ..., 0.3176, 0.3059, 0.3020]],\n",
       "\n",
       "         [[0.5020, 0.4941, 0.5020,  ..., 0.3490, 0.4118, 0.5020],\n",
       "          [0.5137, 0.4941, 0.4980,  ..., 0.4745, 0.5098, 0.5490],\n",
       "          [0.5608, 0.5490, 0.5569,  ..., 0.5961, 0.6039, 0.5922],\n",
       "          ...,\n",
       "          [0.0392, 0.1373, 0.1373,  ..., 0.1098, 0.1529, 0.1647],\n",
       "          [0.1020, 0.1020, 0.0588,  ..., 0.1412, 0.1804, 0.1961],\n",
       "          [0.0667, 0.0706, 0.0902,  ..., 0.1294, 0.1725, 0.1843]]]],\n",
       "       device='mps:0')"
      ]
     },
     "execution_count": 276,
     "metadata": {},
     "output_type": "execute_result"
    }
   ],
   "source": [
    "from PIL import Image\n",
    "import numpy as np\n",
    "\n",
    "# Open the image using Pillow\n",
    "image_raw = Image.open('./deploy_test/fake/fake1.jpg')\n",
    "image_raw.resize((32, 32))\n",
    "\n",
    "# Convert the image to a NumPy array\n",
    "image = np.array(image_raw)\n",
    "image = torch.tensor(image, dtype=torch.float32) / 255.0\n",
    "image = image.transpose(1, 2).transpose(0, 1).unsqueeze(0)\n",
    "image = image.to(device)\n",
    "image"
   ]
  },
  {
   "cell_type": "code",
   "execution_count": 269,
   "metadata": {},
   "outputs": [
    {
     "data": {
      "text/plain": [
       "tensor([[[0.7333, 0.6667, 0.7686,  ..., 1.0000, 0.9451, 0.9725],\n",
       "         [0.7686, 0.6902, 0.7608,  ..., 0.9176, 0.9059, 0.9843],\n",
       "         [0.8000, 0.7333, 0.8196,  ..., 0.9922, 0.9843, 0.8824],\n",
       "         ...,\n",
       "         [0.4275, 0.3843, 0.3333,  ..., 0.4980, 0.5020, 0.5137],\n",
       "         [0.4706, 0.4392, 0.4392,  ..., 0.4824, 0.5020, 0.5294],\n",
       "         [0.5490, 0.5294, 0.5451,  ..., 0.4667, 0.4863, 0.5255]],\n",
       "\n",
       "        [[0.6784, 0.5882, 0.6471,  ..., 0.9804, 0.9176, 0.9608],\n",
       "         [0.7098, 0.6118, 0.6471,  ..., 0.8784, 0.8980, 0.9922],\n",
       "         [0.7569, 0.6667, 0.7137,  ..., 0.9882, 1.0000, 0.9137],\n",
       "         ...,\n",
       "         [0.3647, 0.3216, 0.2706,  ..., 0.4627, 0.4510, 0.4588],\n",
       "         [0.4000, 0.3765, 0.3804,  ..., 0.4510, 0.4510, 0.4745],\n",
       "         [0.4824, 0.4627, 0.4863,  ..., 0.4353, 0.4353, 0.4706]],\n",
       "\n",
       "        [[0.4000, 0.3020, 0.3333,  ..., 1.0000, 0.9882, 1.0000],\n",
       "         [0.3765, 0.2706, 0.2863,  ..., 0.9216, 0.9529, 1.0000],\n",
       "         [0.3059, 0.2196, 0.2627,  ..., 1.0000, 1.0000, 0.9569],\n",
       "         ...,\n",
       "         [0.3137, 0.2627, 0.2078,  ..., 0.3333, 0.3176, 0.3216],\n",
       "         [0.3451, 0.3137, 0.3059,  ..., 0.3098, 0.3137, 0.3294],\n",
       "         [0.4196, 0.3922, 0.4118,  ..., 0.2941, 0.2980, 0.3255]]])"
      ]
     },
     "execution_count": 269,
     "metadata": {},
     "output_type": "execute_result"
    }
   ],
   "source": [
    "from PIL import Image\n",
    "from torchvision import transforms\n",
    "\n",
    "image = Image.open('./image.jpg')\n",
    "to_tensor = transforms.ToTensor()\n",
    "image_tensor = to_tensor(image)\n",
    "image_tensor"
   ]
  },
  {
   "cell_type": "code",
   "execution_count": 234,
   "metadata": {},
   "outputs": [],
   "source": [
    "transform = v2.Compose([\n",
    "    v2.ToTensor(),\n",
    "])\n",
    "\n",
    "deploy_dataset = ImageFolder(root=f\"./deploy_test/\", transform=transform)\n",
    "deploy_loader= DataLoader(deploy_dataset, batch_size=1, shuffle=False, num_workers=2)"
   ]
  },
  {
   "cell_type": "code",
   "execution_count": 277,
   "metadata": {},
   "outputs": [
    {
     "data": {
      "text/plain": [
       "CNN(\n",
       "  (conv1): Conv2d(3, 64, kernel_size=(3, 3), stride=(1, 1), padding=(1, 1))\n",
       "  (relu1): ReLU()\n",
       "  (maxpool1): MaxPool2d(kernel_size=2, stride=2, padding=0, dilation=1, ceil_mode=False)\n",
       "  (conv2): Conv2d(64, 128, kernel_size=(3, 3), stride=(1, 1), padding=(1, 1))\n",
       "  (relu2): ReLU()\n",
       "  (maxpool2): MaxPool2d(kernel_size=2, stride=2, padding=0, dilation=1, ceil_mode=False)\n",
       "  (conv3): Conv2d(128, 256, kernel_size=(3, 3), stride=(1, 1), padding=(1, 1))\n",
       "  (relu3): ReLU()\n",
       "  (flatten): Flatten(start_dim=1, end_dim=-1)\n",
       "  (fc1): Linear(in_features=16384, out_features=256, bias=True)\n",
       "  (relu4): ReLU()\n",
       "  (dropout): Dropout(p=0.5, inplace=False)\n",
       "  (fc2): Linear(in_features=256, out_features=128, bias=True)\n",
       "  (relu5): ReLU()\n",
       "  (fc3): Linear(in_features=128, out_features=1, bias=True)\n",
       "  (sigmoid): Sigmoid()\n",
       ")"
      ]
     },
     "execution_count": 277,
     "metadata": {},
     "output_type": "execute_result"
    }
   ],
   "source": [
    "model = CNN()\n",
    "model.load_state_dict(torch.load(\"./output/model_state_dict.pt\"))\n",
    "model.to(device)"
   ]
  },
  {
   "cell_type": "code",
   "execution_count": 278,
   "metadata": {},
   "outputs": [
    {
     "name": "stdout",
     "output_type": "stream",
     "text": [
      "tensor([[-11.1084]], device='mps:0')\n",
      "tensor([[1.4986e-05]], device='mps:0')\n"
     ]
    }
   ],
   "source": [
    "model.eval()\n",
    "sigmoid = torch.nn.Sigmoid()\n",
    "with torch.no_grad():\n",
    "    image = image.to(device)\n",
    "    logit = model(image)\n",
    "    prob = sigmoid(logit)\n",
    "    print(logit)\n",
    "    print(prob)"
   ]
  },
  {
   "cell_type": "code",
   "execution_count": null,
   "metadata": {},
   "outputs": [],
   "source": []
  }
 ],
 "metadata": {
  "colab": {
   "provenance": []
  },
  "kernelspec": {
   "display_name": "Python 3 (ipykernel)",
   "language": "python",
   "name": "python3"
  },
  "language_info": {
   "codemirror_mode": {
    "name": "ipython",
    "version": 3
   },
   "file_extension": ".py",
   "mimetype": "text/x-python",
   "name": "python",
   "nbconvert_exporter": "python",
   "pygments_lexer": "ipython3",
   "version": "3.9.18"
  }
 },
 "nbformat": 4,
 "nbformat_minor": 4
}
