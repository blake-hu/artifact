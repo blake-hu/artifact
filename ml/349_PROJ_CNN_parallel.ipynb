{
 "cells": [
  {
   "cell_type": "markdown",
   "metadata": {
    "id": "V71UDR_j-fxy"
   },
   "source": [
    "load data and create dataframes"
   ]
  },
  {
   "cell_type": "code",
   "execution_count": 1,
   "metadata": {
    "id": "BE-ptj4_rTJw"
   },
   "outputs": [],
   "source": [
    "import itertools\n",
    "import numpy as np  # Import NumPy for numerical operations\n",
    "import pandas as pd  # Import Pandas for data manipulation\n",
    "from pathlib import Path\n",
    "from tqdm.notebook import tqdm\n",
    "import os\n",
    "import zipfile\n",
    "from torchvision import transforms\n",
    "from torchvision.datasets import ImageFolder\n",
    "from torch.utils.data import DataLoader\n",
    "from torchvision.transforms import v2\n",
    "import torch\n",
    "from torch.utils.data import Dataset\n",
    "import matplotlib.pyplot as plt\n",
    "import random\n",
    "from torch.utils.data import DataLoader, random_split\n",
    "import torch\n",
    "import seaborn as sns\n",
    "import matplotlib.pyplot as plt\n",
    "import torch.nn.functional as F\n",
    "from sklearn.metrics import accuracy_score, f1_score, matthews_corrcoef, confusion_matrix\n",
    "\n",
    "random.seed(89034320423)"
   ]
  },
  {
   "cell_type": "code",
   "execution_count": 2,
   "metadata": {},
   "outputs": [
    {
     "name": "stdout",
     "output_type": "stream",
     "text": [
      "mps\n"
     ]
    }
   ],
   "source": [
    "device_name = \"cpu\"  # default device is CPU\n",
    "if torch.cuda.is_available():\n",
    "    device_name = \"cuda\"  # CUDA for NVIDIA GPU\n",
    "elif torch.backends.mps.is_available():\n",
    "    device_name = torch.device(\"mps\")  # Metal Performance Shaders for Apple M-series GPU\n",
    "device = torch.device(device_name)\n",
    "print(device_name)"
   ]
  },
  {
   "cell_type": "markdown",
   "metadata": {
    "id": "4pvsNIambaDi"
   },
   "source": [
    "data transformations"
   ]
  },
  {
   "cell_type": "code",
   "execution_count": 3,
   "metadata": {
    "colab": {
     "base_uri": "https://localhost:8080/"
    },
    "id": "ltvtdviibYrQ",
    "outputId": "6b67ce73-a25a-4729-b4ae-ee4e67143b6c"
   },
   "outputs": [
    {
     "name": "stderr",
     "output_type": "stream",
     "text": [
      "/Users/blake/miniforge3/envs/cs349/lib/python3.9/site-packages/torchvision/transforms/v2/_deprecated.py:43: UserWarning: The transform `ToTensor()` is deprecated and will be removed in a future release. Instead, please use `v2.Compose([v2.ToImage(), v2.ToDtype(torch.float32, scale=True)])`.\n",
      "  warnings.warn(\n"
     ]
    }
   ],
   "source": [
    "root_dir = './cifake'\n",
    "\n",
    "# Compose your transformations\n",
    "transform = v2.Compose([\n",
    "    v2.ToTensor(),\n",
    "])\n",
    "\n",
    "\n",
    "test_transform = v2.Compose([\n",
    "    v2.ToTensor(),\n",
    "])\n",
    "\n",
    "dataset = ImageFolder(root=f\"{root_dir}/train\", transform=transform)\n",
    "test_dataset = ImageFolder(root=f\"{root_dir}/test\", transform=test_transform)\n",
    "\n",
    "train_size = int(0.8 * len(dataset)) #TODO change\n",
    "val_size = len(dataset) - train_size\n",
    "\n",
    "train_dataset, val_dataset = random_split(dataset, [train_size, val_size])\n",
    "train_loader = DataLoader(train_dataset, batch_size=100, shuffle=True, num_workers=2)\n",
    "val_loader = DataLoader(val_dataset, batch_size=100, shuffle=True,num_workers=2)\n",
    "test_loader= DataLoader(test_dataset, batch_size=100, shuffle=False,num_workers=2)"
   ]
  },
  {
   "cell_type": "code",
   "execution_count": 4,
   "metadata": {
    "id": "SFj03Doo17hf"
   },
   "outputs": [],
   "source": [
    "class EarlyStopper:\n",
    "  def __init__(self, patience, min_delta):\n",
    "      self.patience = patience\n",
    "      self.min_delta = min_delta\n",
    "      self.counter = 0\n",
    "      self.min_validation_loss = float('inf')\n",
    "\n",
    "  def early_stop(self, validation_loss):\n",
    "      if validation_loss < self.min_validation_loss:\n",
    "          self.min_validation_loss = validation_loss\n",
    "          self.counter = 0\n",
    "      elif validation_loss > (self.min_validation_loss + self.min_delta):\n",
    "          self.counter += 1\n",
    "          if self.counter >= self.patience:\n",
    "              return True\n",
    "      return False"
   ]
  },
  {
   "cell_type": "code",
   "execution_count": 5,
   "metadata": {
    "id": "DcIqTH0eeptz"
   },
   "outputs": [],
   "source": [
    "import torch.nn as nn\n",
    "\n",
    "class CNN(nn.Module):\n",
    "    def __init__(self):\n",
    "        super(CNN, self).__init__()\n",
    "\n",
    "        self.conv1 = nn.Conv2d(3, 64, kernel_size=3, padding=1)\n",
    "        self.relu1 = nn.ReLU()\n",
    "        self.batchnorm1 = nn.BatchNorm2d(64)\n",
    "        self.maxpool1 = nn.MaxPool2d(kernel_size=2, stride=2)\n",
    "\n",
    "        self.conv2 = nn.Conv2d(64, 128, kernel_size=3, padding=1)\n",
    "        self.relu2 = nn.ReLU()\n",
    "        self.batchnorm2 = nn.BatchNorm2d(128)\n",
    "        self.maxpool2 = nn.MaxPool2d(kernel_size=2, stride=2)\n",
    "\n",
    "        self.conv3 = nn.Conv2d(128, 256, kernel_size=3, padding=1)\n",
    "        self.relu3 = nn.ReLU()\n",
    "        self.batchnorm3 = nn.BatchNorm2d(256)\n",
    "\n",
    "        self.flatten = nn.Flatten()\n",
    "        self.fc1 = nn.Linear(256 * 8 * 8, 256)\n",
    "        self.relu4 = nn.ReLU()\n",
    "        self.batchnorm4 = nn.BatchNorm1d(256)\n",
    "        self.dropout = nn.Dropout(0.5)\n",
    "        self.fc2 = nn.Linear(256, 128)\n",
    "        self.relu5 = nn.ReLU()\n",
    "        self.fc3 = nn.Linear(128, 1)\n",
    "        self.sigmoid = nn.Sigmoid()\n",
    "\n",
    "    def forward(self, x):\n",
    "        x = self.conv1(x)\n",
    "        x = self.relu1(x)\n",
    "        x = self.batchnorm1(x)\n",
    "        x = self.maxpool1(x)\n",
    "\n",
    "        x = self.conv2(x)\n",
    "        x = self.relu2(x)\n",
    "        x = self.batchnorm2(x)\n",
    "        x = self.maxpool2(x)\n",
    "\n",
    "        x = self.conv3(x)\n",
    "        x = self.relu3(x)\n",
    "        x = self.batchnorm3(x)\n",
    "\n",
    "        x = self.flatten(x)\n",
    "        x = self.fc1(x)\n",
    "        x = self.relu4(x)\n",
    "        x = self.batchnorm4(x)\n",
    "        x = self.dropout(x)\n",
    "        x = self.fc2(x)\n",
    "        x = self.relu5(x)\n",
    "        x = self.fc3(x)\n",
    "\n",
    "        return x\n"
   ]
  },
  {
   "cell_type": "code",
   "execution_count": 6,
   "metadata": {
    "colab": {
     "base_uri": "https://localhost:8080/",
     "height": 390
    },
    "id": "5vII3AcjvKF4",
    "outputId": "5faf8025-7929-428a-d12d-208f3f8b6a52"
   },
   "outputs": [
    {
     "name": "stdout",
     "output_type": "stream",
     "text": [
      "Epochs:\n"
     ]
    },
    {
     "data": {
      "application/vnd.jupyter.widget-view+json": {
       "model_id": "c6e31bd60dd94c6e993257b42367776b",
       "version_major": 2,
       "version_minor": 0
      },
      "text/plain": [
       "  0%|          | 0/10 [00:00<?, ?it/s]"
      ]
     },
     "metadata": {},
     "output_type": "display_data"
    },
    {
     "data": {
      "application/vnd.jupyter.widget-view+json": {
       "model_id": "d3b30bcf9454435e9afe9c4e9d5d288e",
       "version_major": 2,
       "version_minor": 0
      },
      "text/plain": [
       "  0%|          | 0/800 [00:00<?, ?it/s]"
      ]
     },
     "metadata": {},
     "output_type": "display_data"
    },
    {
     "data": {
      "application/vnd.jupyter.widget-view+json": {
       "model_id": "ba0b6e5f67af43d4a0c6916a41f37db2",
       "version_major": 2,
       "version_minor": 0
      },
      "text/plain": [
       "  0%|          | 0/200 [00:00<?, ?it/s]"
      ]
     },
     "metadata": {},
     "output_type": "display_data"
    },
    {
     "name": "stdout",
     "output_type": "stream",
     "text": [
      "Validation loss: 0.145140 \n",
      "\n",
      "Validation accuracy: 0.941700 \n",
      "\n",
      "Validation F1: 0.941700 \n",
      "\n",
      "Validation mcc: 0.884391 \n",
      "\n"
     ]
    },
    {
     "data": {
      "application/vnd.jupyter.widget-view+json": {
       "model_id": "f5a7c15903004cd2828b572654a4fedc",
       "version_major": 2,
       "version_minor": 0
      },
      "text/plain": [
       "  0%|          | 0/800 [00:00<?, ?it/s]"
      ]
     },
     "metadata": {},
     "output_type": "display_data"
    },
    {
     "data": {
      "application/vnd.jupyter.widget-view+json": {
       "model_id": "bb9559c95ab0440fb766a76355779893",
       "version_major": 2,
       "version_minor": 0
      },
      "text/plain": [
       "  0%|          | 0/200 [00:00<?, ?it/s]"
      ]
     },
     "metadata": {},
     "output_type": "display_data"
    },
    {
     "name": "stdout",
     "output_type": "stream",
     "text": [
      "Validation loss: 0.324872 \n",
      "\n",
      "Validation accuracy: 0.824000 \n",
      "\n",
      "Validation F1: 0.824000 \n",
      "\n",
      "Validation mcc: 0.690262 \n",
      "\n"
     ]
    },
    {
     "data": {
      "application/vnd.jupyter.widget-view+json": {
       "model_id": "797fab7faab34aafab911a03dc2479b1",
       "version_major": 2,
       "version_minor": 0
      },
      "text/plain": [
       "  0%|          | 0/800 [00:00<?, ?it/s]"
      ]
     },
     "metadata": {},
     "output_type": "display_data"
    },
    {
     "data": {
      "application/vnd.jupyter.widget-view+json": {
       "model_id": "d3a0854be3f14872819b2cb0fc6eb704",
       "version_major": 2,
       "version_minor": 0
      },
      "text/plain": [
       "  0%|          | 0/200 [00:00<?, ?it/s]"
      ]
     },
     "metadata": {},
     "output_type": "display_data"
    },
    {
     "name": "stdout",
     "output_type": "stream",
     "text": [
      "Validation loss: 0.125198 \n",
      "\n",
      "Validation accuracy: 0.950350 \n",
      "\n",
      "Validation F1: 0.950350 \n",
      "\n",
      "Validation mcc: 0.900936 \n",
      "\n"
     ]
    },
    {
     "data": {
      "application/vnd.jupyter.widget-view+json": {
       "model_id": "c4f7c4f491a24cc18001d788bfac43c2",
       "version_major": 2,
       "version_minor": 0
      },
      "text/plain": [
       "  0%|          | 0/800 [00:00<?, ?it/s]"
      ]
     },
     "metadata": {},
     "output_type": "display_data"
    },
    {
     "data": {
      "application/vnd.jupyter.widget-view+json": {
       "model_id": "a3f40193ae964d87a68d4c40aca35993",
       "version_major": 2,
       "version_minor": 0
      },
      "text/plain": [
       "  0%|          | 0/200 [00:00<?, ?it/s]"
      ]
     },
     "metadata": {},
     "output_type": "display_data"
    },
    {
     "name": "stdout",
     "output_type": "stream",
     "text": [
      "Validation loss: 0.096270 \n",
      "\n",
      "Validation accuracy: 0.962200 \n",
      "\n",
      "Validation F1: 0.962200 \n",
      "\n",
      "Validation mcc: 0.924777 \n",
      "\n"
     ]
    },
    {
     "data": {
      "application/vnd.jupyter.widget-view+json": {
       "model_id": "93081cc0514243b7ad0326406ce8a138",
       "version_major": 2,
       "version_minor": 0
      },
      "text/plain": [
       "  0%|          | 0/800 [00:00<?, ?it/s]"
      ]
     },
     "metadata": {},
     "output_type": "display_data"
    },
    {
     "data": {
      "application/vnd.jupyter.widget-view+json": {
       "model_id": "f342840e886f40c6a99a0ece62ab0894",
       "version_major": 2,
       "version_minor": 0
      },
      "text/plain": [
       "  0%|          | 0/200 [00:00<?, ?it/s]"
      ]
     },
     "metadata": {},
     "output_type": "display_data"
    },
    {
     "name": "stdout",
     "output_type": "stream",
     "text": [
      "Validation loss: 0.093953 \n",
      "\n",
      "Validation accuracy: 0.966250 \n",
      "\n",
      "Validation F1: 0.966250 \n",
      "\n",
      "Validation mcc: 0.932548 \n",
      "\n"
     ]
    },
    {
     "data": {
      "application/vnd.jupyter.widget-view+json": {
       "model_id": "41d036265f994f7da9a64141ac336a18",
       "version_major": 2,
       "version_minor": 0
      },
      "text/plain": [
       "  0%|          | 0/800 [00:00<?, ?it/s]"
      ]
     },
     "metadata": {},
     "output_type": "display_data"
    },
    {
     "data": {
      "application/vnd.jupyter.widget-view+json": {
       "model_id": "faf8d06249234531a55008c239ffe709",
       "version_major": 2,
       "version_minor": 0
      },
      "text/plain": [
       "  0%|          | 0/200 [00:00<?, ?it/s]"
      ]
     },
     "metadata": {},
     "output_type": "display_data"
    },
    {
     "name": "stdout",
     "output_type": "stream",
     "text": [
      "Validation loss: 0.099656 \n",
      "\n",
      "Validation accuracy: 0.961800 \n",
      "\n",
      "Validation F1: 0.961800 \n",
      "\n",
      "Validation mcc: 0.924483 \n",
      "\n"
     ]
    },
    {
     "data": {
      "application/vnd.jupyter.widget-view+json": {
       "model_id": "df788bd7551e4fba9d459ce345fd7544",
       "version_major": 2,
       "version_minor": 0
      },
      "text/plain": [
       "  0%|          | 0/800 [00:00<?, ?it/s]"
      ]
     },
     "metadata": {},
     "output_type": "display_data"
    },
    {
     "data": {
      "application/vnd.jupyter.widget-view+json": {
       "model_id": "cc04e0716c27481bb60386d965381510",
       "version_major": 2,
       "version_minor": 0
      },
      "text/plain": [
       "  0%|          | 0/200 [00:00<?, ?it/s]"
      ]
     },
     "metadata": {},
     "output_type": "display_data"
    },
    {
     "name": "stdout",
     "output_type": "stream",
     "text": [
      "Validation loss: 0.092933 \n",
      "\n",
      "Validation accuracy: 0.966950 \n",
      "\n",
      "Validation F1: 0.966950 \n",
      "\n",
      "Validation mcc: 0.934047 \n",
      "\n"
     ]
    },
    {
     "data": {
      "application/vnd.jupyter.widget-view+json": {
       "model_id": "e00d7594efc1405aabf774c48ea2a5a8",
       "version_major": 2,
       "version_minor": 0
      },
      "text/plain": [
       "  0%|          | 0/800 [00:00<?, ?it/s]"
      ]
     },
     "metadata": {},
     "output_type": "display_data"
    },
    {
     "data": {
      "application/vnd.jupyter.widget-view+json": {
       "model_id": "6794f211530a4252a04a03f199ed6cbe",
       "version_major": 2,
       "version_minor": 0
      },
      "text/plain": [
       "  0%|          | 0/200 [00:00<?, ?it/s]"
      ]
     },
     "metadata": {},
     "output_type": "display_data"
    },
    {
     "name": "stdout",
     "output_type": "stream",
     "text": [
      "Validation loss: 0.094480 \n",
      "\n",
      "Validation accuracy: 0.966600 \n",
      "\n",
      "Validation F1: 0.966600 \n",
      "\n",
      "Validation mcc: 0.933434 \n",
      "\n"
     ]
    },
    {
     "data": {
      "application/vnd.jupyter.widget-view+json": {
       "model_id": "a55d38f42f204bf9986628ef9d1618b9",
       "version_major": 2,
       "version_minor": 0
      },
      "text/plain": [
       "  0%|          | 0/800 [00:00<?, ?it/s]"
      ]
     },
     "metadata": {},
     "output_type": "display_data"
    },
    {
     "data": {
      "application/vnd.jupyter.widget-view+json": {
       "model_id": "2bfad752f3a5411f919bcfe3cb8cdb93",
       "version_major": 2,
       "version_minor": 0
      },
      "text/plain": [
       "  0%|          | 0/200 [00:00<?, ?it/s]"
      ]
     },
     "metadata": {},
     "output_type": "display_data"
    },
    {
     "name": "stdout",
     "output_type": "stream",
     "text": [
      "Validation loss: 0.096340 \n",
      "\n",
      "Validation accuracy: 0.966150 \n",
      "\n",
      "Validation F1: 0.966150 \n",
      "\n",
      "Validation mcc: 0.932465 \n",
      "\n"
     ]
    },
    {
     "data": {
      "application/vnd.jupyter.widget-view+json": {
       "model_id": "31db38a95d314e18a356545b7596bac3",
       "version_major": 2,
       "version_minor": 0
      },
      "text/plain": [
       "  0%|          | 0/800 [00:00<?, ?it/s]"
      ]
     },
     "metadata": {},
     "output_type": "display_data"
    },
    {
     "data": {
      "application/vnd.jupyter.widget-view+json": {
       "model_id": "bc029562b61a4e288a03d8dcd14fb8cf",
       "version_major": 2,
       "version_minor": 0
      },
      "text/plain": [
       "  0%|          | 0/200 [00:00<?, ?it/s]"
      ]
     },
     "metadata": {},
     "output_type": "display_data"
    },
    {
     "name": "stdout",
     "output_type": "stream",
     "text": [
      "Validation loss: 0.096095 \n",
      "\n",
      "Validation accuracy: 0.965950 \n",
      "\n",
      "Validation F1: 0.965950 \n",
      "\n",
      "Validation mcc: 0.932111 \n",
      "\n",
      "Evaluating on test set:\n"
     ]
    },
    {
     "data": {
      "application/vnd.jupyter.widget-view+json": {
       "model_id": "0af5c70b9fd545edb96a5ae40293bd1a",
       "version_major": 2,
       "version_minor": 0
      },
      "text/plain": [
       "  0%|          | 0/200 [00:00<?, ?it/s]"
      ]
     },
     "metadata": {},
     "output_type": "display_data"
    },
    {
     "name": "stdout",
     "output_type": "stream",
     "text": [
      "Test accuracy: 0.96595\n",
      "Test F1: 0.96595\n",
      "Test MCC: 0.9320493309257998\n"
     ]
    },
    {
     "data": {
      "image/png": "[encoded data removed]",
      "text/plain": [
       "<Figure size 640x480 with 1 Axes>"
      ]
     },
     "metadata": {},
     "output_type": "display_data"
    },
    {
     "data": {
      "image/png": "[encoded data removed]",
      "text/plain": [
       "<Figure size 800x600 with 2 Axes>"
      ]
     },
     "metadata": {},
     "output_type": "display_data"
    }
   ],
   "source": [
    "# Wrap your training loop with the Bottleneck profiler\n",
    "\n",
    "def train(dataloader , model , loss_func, optimizer):\n",
    "\n",
    "      model.train()\n",
    "      train_loss = []\n",
    "\n",
    "      for input, target in tqdm(dataloader):\n",
    "\n",
    "          input, target = input.to(device), target.to(device)\n",
    "          pred = model(input)\n",
    "          pred = torch.squeeze(pred)\n",
    "          loss = loss_func(pred, target.float())\n",
    "          #backpropagation\n",
    "          optimizer.zero_grad()\n",
    "          loss.backward()\n",
    "          optimizer.step()\n",
    "          train_loss.append(loss.item())\n",
    "      return train_loss\n",
    "\n",
    "def validate(dataloader, model, loss_func, threshold=0.5):\n",
    "    model.eval()\n",
    "    \n",
    "    num_batches = len(dataloader)\n",
    "    test_loss= 0\n",
    "    y_true = []\n",
    "    y_pred = []\n",
    "\n",
    "    with torch.no_grad():\n",
    "      for input, target in tqdm(dataloader):\n",
    "            input, target = input.to(device), target.to(device)\n",
    "            pred = model(input)\n",
    "            pred = torch.squeeze(pred)\n",
    "            test_loss += loss_func(pred, target.float()).item()\n",
    "            predicted = (pred >= threshold).float()\n",
    "            y_true.extend(target.cpu().numpy())\n",
    "            y_pred.extend(predicted.cpu().numpy())\n",
    "          \n",
    "    test_loss /= num_batches\n",
    "    acc = accuracy_score(y_true, y_pred)\n",
    "    f1 = f1_score(y_true, y_pred, average=\"micro\")\n",
    "    mcc = matthews_corrcoef(y_true, y_pred)\n",
    "    print(f\"Validation loss: {test_loss:>8f} \\n\")\n",
    "    print(f\"Validation accuracy: {acc:>8f} \\n\")\n",
    "    print(f\"Validation F1: {f1:>8f} \\n\")\n",
    "    print(f\"Validation mcc: {mcc:>8f} \\n\")\n",
    "    return test_loss\n",
    "\n",
    "\n",
    "def test(dataloader, model, threshold=0.5):\n",
    "    model.eval()\n",
    "\n",
    "    y_true = []\n",
    "    y_pred = []\n",
    "\n",
    "    with torch.no_grad():\n",
    "        print(\"Evaluating on test set:\")\n",
    "        for input, target in tqdm(dataloader):\n",
    "            input, target = input.to(device), target.to(device)\n",
    "            pred = model(input)\n",
    "            pred = torch.squeeze(pred)\n",
    "            predicted = (pred >= threshold).float()\n",
    "            y_true.extend(target.cpu().numpy())\n",
    "            y_pred.extend(predicted.cpu().numpy())\n",
    "\n",
    "    return {\n",
    "                \"y_true\": y_true,\n",
    "                \"y_pred\": y_pred,\n",
    "                \"acc\": accuracy_score(y_true, y_pred),\n",
    "                \"f1\": f1_score(y_true, y_pred, average=\"micro\"),\n",
    "                \"mcc\": matthews_corrcoef(y_true, y_pred)\n",
    "            }\n",
    "\n",
    "\n",
    "def classify():\n",
    "    early_stopper = EarlyStopper(patience=2, min_delta=0.01)\n",
    "    \n",
    "    input_size = 32*32\n",
    "    output_size= 1 #isn't this supposed to be 2? for classifications (AI, Human)? #no it's 1 for binary classification\n",
    "    model = CNN().to(device)\n",
    "    loss_fun = nn.BCEWithLogitsLoss()\n",
    "    optimizer = torch.optim.AdamW(model.parameters(), lr = 1e-3)\n",
    "    scheduler = torch.optim.lr_scheduler.StepLR(optimizer, step_size=3, gamma=0.1)\n",
    "    epochs = 10\n",
    "    train_loss = []\n",
    "    test_loss = []\n",
    "\n",
    "    print(\"Epochs:\")\n",
    "    for t in tqdm(range(epochs)):\n",
    "        losses = train(train_loader, model, loss_fun, optimizer)\n",
    "        train_loss.append(losses)\n",
    "        validation_loss = validate(val_loader, model, loss_fun)\n",
    "        test_loss.append(validation_loss)\n",
    "        if early_stopper.early_stop(validation_loss):\n",
    "            print(\"early stop\")\n",
    "            break\n",
    "        scheduler.step()\n",
    "\n",
    "    plt.plot([i for i in range(len(train_loss))], torch.tensor(train_loss).mean(axis=1), color=\"blue\") #training loss\n",
    "    plt.plot([i for i in range(len(test_loss))], test_loss, color=\"red\") #testing loss\n",
    "    result = test(test_loader, model)\n",
    "    print(f\"Test accuracy: {result['acc']}\")\n",
    "    print(f\"Test F1: {result['f1']}\")\n",
    "    print(f\"Test MCC: {result['mcc']}\")\n",
    "\n",
    "    conf_matrix = confusion_matrix(result[\"y_true\"], result[\"y_pred\"])\n",
    "\n",
    "    # Plot confusion matrix\n",
    "    labels = ['Real', 'Fake']\n",
    "    plt.figure(figsize=(8, 6))\n",
    "    sns.heatmap(conf_matrix, annot=True, fmt='d', cmap='Blues', xticklabels=labels, yticklabels=labels)\n",
    "    plt.title('Confusion Matrix')\n",
    "    plt.xlabel('Predicted')\n",
    "    plt.ylabel('True')\n",
    "    plt.show()\n",
    "\n",
    "classify()"
   ]
  },
  {
   "cell_type": "code",
   "execution_count": null,
   "metadata": {},
   "outputs": [],
   "source": []
  }
 ],
 "metadata": {
  "colab": {
   "provenance": []
  },
  "kernelspec": {
   "display_name": "Python 3 (ipykernel)",
   "language": "python",
   "name": "python3"
  },
  "language_info": {
   "codemirror_mode": {
    "name": "ipython",
    "version": 3
   },
   "file_extension": ".py",
   "mimetype": "text/x-python",
   "name": "python",
   "nbconvert_exporter": "python",
   "pygments_lexer": "ipython3",
   "version": "3.9.18"
  }
 },
 "nbformat": 4,
 "nbformat_minor": 4
}
